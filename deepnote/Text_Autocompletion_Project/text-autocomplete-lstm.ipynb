{
  "cells": [
    {
      "cell_type": "code",
      "source": "!ls /datasets/my-projects/ds_ml/text-autocompletion",
      "metadata": {
        "source_hash": null,
        "execution_start": 1692539577964,
        "execution_millis": 172,
        "deepnote_app_coordinates": {
          "h": 5,
          "w": 12,
          "x": 0,
          "y": 0
        },
        "deepnote_to_be_reexecuted": false,
        "deepnote_app_is_code_hidden": false,
        "deepnote_app_is_output_hidden": false,
        "cell_id": "510d736535404dd69f8a560354db2433",
        "deepnote_cell_type": "code"
      },
      "outputs": [
        {
          "name": "stdout",
          "text": "enron.zip\n",
          "output_type": "stream"
        }
      ],
      "execution_count": null,
      "block_group": "510d736535404dd69f8a560354db2433"
    },
    {
      "cell_type": "code",
      "source": "import email\nimport re\nimport io\nimport zipfile\nimport numpy as np\nimport pandas as pd\nimport tensorflow as tf",
      "metadata": {
        "source_hash": null,
        "execution_start": 1692539578115,
        "execution_millis": 12888,
        "deepnote_app_coordinates": {
          "h": 5,
          "w": 12,
          "x": 0,
          "y": 0
        },
        "deepnote_to_be_reexecuted": false,
        "deepnote_app_is_code_hidden": false,
        "deepnote_app_is_output_hidden": false,
        "cell_id": "3465187a9eee434c889ecb0933af9652",
        "deepnote_cell_type": "code"
      },
      "outputs": [
        {
          "name": "stderr",
          "text": "2023-08-20 13:52:58.159910: I tensorflow/core/platform/cpu_feature_guard.cc:193] This TensorFlow binary is optimized with oneAPI Deep Neural Network Library (oneDNN) to use the following CPU instructions in performance-critical operations:  AVX2 FMA\nTo enable them in other operations, rebuild TensorFlow with the appropriate compiler flags.\n2023-08-20 13:52:58.296915: W tensorflow/stream_executor/platform/default/dso_loader.cc:64] Could not load dynamic library 'libcudart.so.11.0'; dlerror: libcudart.so.11.0: cannot open shared object file: No such file or directory\n2023-08-20 13:52:58.296952: I tensorflow/stream_executor/cuda/cudart_stub.cc:29] Ignore above cudart dlerror if you do not have a GPU set up on your machine.\n2023-08-20 13:52:58.315417: E tensorflow/stream_executor/cuda/cuda_blas.cc:2981] Unable to register cuBLAS factory: Attempting to register factory for plugin cuBLAS when one has already been registered\n2023-08-20 13:53:02.329334: W tensorflow/stream_executor/platform/default/dso_loader.cc:64] Could not load dynamic library 'libnvinfer.so.7'; dlerror: libnvinfer.so.7: cannot open shared object file: No such file or directory\n2023-08-20 13:53:02.329449: W tensorflow/stream_executor/platform/default/dso_loader.cc:64] Could not load dynamic library 'libnvinfer_plugin.so.7'; dlerror: libnvinfer_plugin.so.7: cannot open shared object file: No such file or directory\n2023-08-20 13:53:02.329460: W tensorflow/compiler/tf2tensorrt/utils/py_utils.cc:38] TF-TRT Warning: Cannot dlopen some TensorRT libraries. If you would like to use Nvidia GPU with TensorRT, please make sure the missing libraries mentioned above are installed properly.\n",
          "output_type": "stream"
        }
      ],
      "execution_count": null,
      "block_group": "3465187a9eee434c889ecb0933af9652"
    },
    {
      "cell_type": "code",
      "source": "zip_file_path = \"/datasets/my-projects/ds_ml/text-autocompletion/enron.zip\"\ncsv_file_name = \"emails.csv\"\n\nwith zipfile.ZipFile(zip_file_path, 'r') as zip_ref, zip_ref.open(csv_file_name) as csv_file:\n    emails_raw = pd.read_csv(csv_file)\n\nprint(emails_raw.head())",
      "metadata": {
        "source_hash": null,
        "execution_start": 1692539590867,
        "execution_millis": 17076,
        "deepnote_app_coordinates": {
          "h": 5,
          "w": 12,
          "x": 0,
          "y": 0
        },
        "deepnote_to_be_reexecuted": false,
        "deepnote_app_is_code_hidden": false,
        "deepnote_app_is_output_hidden": false,
        "cell_id": "3759b019f8f04cee986525b8d7469121",
        "deepnote_cell_type": "code"
      },
      "outputs": [
        {
          "name": "stdout",
          "text": "                       file                                            message\n0     allen-p/_sent_mail/1.  Message-ID: <18782981.1075855378110.JavaMail.e...\n1    allen-p/_sent_mail/10.  Message-ID: <15464986.1075855378456.JavaMail.e...\n2   allen-p/_sent_mail/100.  Message-ID: <24216240.1075855687451.JavaMail.e...\n3  allen-p/_sent_mail/1000.  Message-ID: <13505866.1075863688222.JavaMail.e...\n4  allen-p/_sent_mail/1001.  Message-ID: <30922949.1075863688243.JavaMail.e...\n",
          "output_type": "stream"
        }
      ],
      "execution_count": null,
      "block_group": "3759b019f8f04cee986525b8d7469121"
    },
    {
      "cell_type": "code",
      "source": "emails_raw.shape",
      "metadata": {
        "source_hash": null,
        "execution_start": 1692539607470,
        "execution_millis": 12,
        "deepnote_app_coordinates": {
          "h": 5,
          "w": 12,
          "x": 0,
          "y": 0
        },
        "deepnote_to_be_reexecuted": false,
        "deepnote_app_is_code_hidden": false,
        "deepnote_app_is_output_hidden": false,
        "cell_id": "80e66782e157449bb9634c9aeb86761e",
        "deepnote_cell_type": "code"
      },
      "outputs": [
        {
          "output_type": "execute_result",
          "execution_count": 4,
          "data": {
            "text/plain": "(517401, 2)"
          },
          "metadata": {}
        }
      ],
      "execution_count": null,
      "block_group": "80e66782e157449bb9634c9aeb86761e"
    },
    {
      "cell_type": "code",
      "source": "sample_email = emails_raw['message'].iloc[1]\nprint(sample_email)",
      "metadata": {
        "source_hash": null,
        "execution_start": 1692539607471,
        "execution_millis": 157,
        "deepnote_app_coordinates": {
          "h": 5,
          "w": 12,
          "x": 0,
          "y": 0
        },
        "deepnote_to_be_reexecuted": false,
        "deepnote_app_is_code_hidden": false,
        "deepnote_app_is_output_hidden": false,
        "cell_id": "caa5758e77ba493aaf371e9e34bdc258",
        "deepnote_cell_type": "code"
      },
      "outputs": [
        {
          "name": "stdout",
          "text": "Message-ID: <15464986.1075855378456.JavaMail.evans@thyme>\nDate: Fri, 4 May 2001 13:51:00 -0700 (PDT)\nFrom: phillip.allen@enron.com\nTo: john.lavorato@enron.com\nSubject: Re:\nMime-Version: 1.0\nContent-Type: text/plain; charset=us-ascii\nContent-Transfer-Encoding: 7bit\nX-From: Phillip K Allen\nX-To: John J Lavorato <John J Lavorato/ENRON@enronXgate@ENRON>\nX-cc: \nX-bcc: \nX-Folder: \\Phillip_Allen_Jan2002_1\\Allen, Phillip K.\\'Sent Mail\nX-Origin: Allen-P\nX-FileName: pallen (Non-Privileged).pst\n\nTraveling to have a business meeting takes the fun out of the trip.  Especially if you have to prepare a presentation.  I would suggest holding the business plan meetings here then take a trip without any formal business meetings.  I would even try and get some honest opinions on whether a trip is even desired or necessary.\n\nAs far as the business meetings, I think it would be more productive to try and stimulate discussions across the different groups about what is working and what is not.  Too often the presenter speaks and the others are quiet just waiting for their turn.   The meetings might be better if held in a round table discussion format.  \n\nMy suggestion for where to go is Austin.  Play golf and rent a ski boat and jet ski's.  Flying somewhere takes too much time.\n\n",
          "output_type": "stream"
        }
      ],
      "execution_count": null,
      "block_group": "caa5758e77ba493aaf371e9e34bdc258"
    },
    {
      "cell_type": "code",
      "source": "sample_email_object = email.message_from_string(sample_email)",
      "metadata": {
        "source_hash": null,
        "execution_start": 1692539607485,
        "execution_millis": 22,
        "deepnote_app_coordinates": {
          "h": 5,
          "w": 12,
          "x": 0,
          "y": 0
        },
        "deepnote_to_be_reexecuted": false,
        "deepnote_app_is_code_hidden": false,
        "cell_id": "592d1ac475af4e4d9dbe2e4f58725244",
        "deepnote_cell_type": "code"
      },
      "outputs": [],
      "execution_count": null,
      "block_group": "592d1ac475af4e4d9dbe2e4f58725244"
    },
    {
      "cell_type": "code",
      "source": "plain_text_parts = []\nfor part in sample_email_object.walk():\n    # print(part)\n    if part.get_content_type() == 'text/plain':\n        plain_text_parts.append(part.get_payload())\nsample_content = ''.join(plain_text_parts)\nprint(sample_content)",
      "metadata": {
        "source_hash": null,
        "execution_start": 1692539607485,
        "execution_millis": 21,
        "deepnote_app_coordinates": {
          "h": 5,
          "w": 12,
          "x": 0,
          "y": 0
        },
        "deepnote_to_be_reexecuted": false,
        "deepnote_app_is_code_hidden": false,
        "deepnote_app_is_output_hidden": false,
        "cell_id": "3e2a54f6917c42b79f3e4570c0862165",
        "deepnote_cell_type": "code"
      },
      "outputs": [
        {
          "name": "stdout",
          "text": "Traveling to have a business meeting takes the fun out of the trip.  Especially if you have to prepare a presentation.  I would suggest holding the business plan meetings here then take a trip without any formal business meetings.  I would even try and get some honest opinions on whether a trip is even desired or necessary.\n\nAs far as the business meetings, I think it would be more productive to try and stimulate discussions across the different groups about what is working and what is not.  Too often the presenter speaks and the others are quiet just waiting for their turn.   The meetings might be better if held in a round table discussion format.  \n\nMy suggestion for where to go is Austin.  Play golf and rent a ski boat and jet ski's.  Flying somewhere takes too much time.\n\n",
          "output_type": "stream"
        }
      ],
      "execution_count": null,
      "block_group": "3e2a54f6917c42b79f3e4570c0862165"
    },
    {
      "cell_type": "code",
      "source": "def extract_plaintext_content(raw_email):\n    #create an email object\n    email_object = email.message_from_string(raw_email)\n    # create an empty list to store all plaintext components\n    plain_text_parts = []\n    \n    #travarse over different parts of the email object and collect the plaintext parts\n    for part in email_object.walk():\n        # check if the part is of type plaintext\n        if part.get_content_type() == 'text/plain':\n            \n            # get payload if the type is plaintext\n            plain_text_parts.append(part.get_payload())\n        \n        # concatenate the plaintext parts and return\n        return ''.join(plain_text_parts)",
      "metadata": {
        "source_hash": null,
        "execution_start": 1692539607528,
        "execution_millis": 19,
        "deepnote_app_coordinates": {
          "h": 5,
          "w": 12,
          "x": 0,
          "y": 0
        },
        "deepnote_to_be_reexecuted": false,
        "deepnote_app_is_code_hidden": false,
        "cell_id": "00720fd52d034ec0b178bc86bde4ab9a",
        "deepnote_cell_type": "code"
      },
      "outputs": [],
      "execution_count": null,
      "block_group": "00720fd52d034ec0b178bc86bde4ab9a"
    },
    {
      "cell_type": "code",
      "source": "# Apply the function over all the raw emails to extract the email message\nemails = pd.DataFrame()\nemails['content'] = [extract_plaintext_content(i) for i in emails_raw['message']]",
      "metadata": {
        "source_hash": null,
        "execution_start": 1692539607529,
        "execution_millis": 54645,
        "deepnote_app_coordinates": {
          "h": 5,
          "w": 12,
          "x": 0,
          "y": 0
        },
        "deepnote_to_be_reexecuted": false,
        "deepnote_app_is_code_hidden": false,
        "cell_id": "dd4bcd086b7d49a3b7a9d192e4950be0",
        "deepnote_cell_type": "code"
      },
      "outputs": [],
      "execution_count": null,
      "block_group": "dd4bcd086b7d49a3b7a9d192e4950be0"
    },
    {
      "cell_type": "code",
      "source": "emails.head()",
      "metadata": {
        "source_hash": null,
        "execution_start": 1692539662124,
        "execution_millis": 230,
        "deepnote_app_coordinates": {
          "h": 5,
          "w": 12,
          "x": 0,
          "y": 0
        },
        "deepnote_to_be_reexecuted": false,
        "deepnote_app_is_code_hidden": false,
        "deepnote_app_is_output_hidden": false,
        "cell_id": "0ce725abf89740e983a584dc0c56fb1a",
        "deepnote_cell_type": "code"
      },
      "outputs": [
        {
          "output_type": "execute_result",
          "execution_count": 10,
          "data": {
            "application/vnd.deepnote.dataframe.v3+json": {
              "column_count": 1,
              "row_count": 5,
              "columns": [
                {
                  "name": "content",
                  "dtype": "object",
                  "stats": {
                    "unique_count": 5,
                    "nan_count": 0,
                    "categories": [
                      {
                        "name": "Here is our forecast\n\n ",
                        "count": 1
                      },
                      {
                        "name": "Traveling to have a business meeting takes the fun out of the trip.  Especially if you have to prepare a presentation.  I would suggest holding the business plan meetings here then take a trip without any formal business meetings.  I would even try and get some honest opinions on whether a trip is even desired or necessary.\n\nAs far as the business meetings, I think it would be more productive to try and stimulate discussions across the different groups about what is working and what is not.  Too often the presenter speaks and the others are quiet just waiting for their turn.   The meetings might be better if held in a round table discussion format.  \n\nMy suggestion for where to go is Austin.  Play golf and rent a ski boat and jet ski's.  Flying somewhere takes too much time.\n",
                        "count": 1
                      },
                      {
                        "name": "3 others",
                        "count": 3
                      }
                    ]
                  }
                },
                {
                  "name": "_deepnote_index_column",
                  "dtype": "int64"
                }
              ],
              "rows": [
                {
                  "content": "Here is our forecast\n\n ",
                  "_deepnote_index_column": 0
                },
                {
                  "content": "Traveling to have a business meeting takes the fun out of the trip.  Especially if you have to prepare a presentation.  I would suggest holding the business plan meetings here then take a trip without any formal business meetings.  I would even try and get some honest opinions on whether a trip is even desired or necessary.\n\nAs far as the business meetings, I think it would be more productive to try and stimulate discussions across the different groups about what is working and what is not.  Too often the presenter speaks and the others are quiet just waiting for their turn.   The meetings might be better if held in a round table discussion format.  \n\nMy suggestion for where to go is Austin.  Play golf and rent a ski boat and jet ski's.  Flying somewhere takes too much time.\n",
                  "_deepnote_index_column": 1
                },
                {
                  "content": "test successful.  way to go!!!",
                  "_deepnote_index_column": 2
                },
                {
                  "content": "Randy,\n\n Can you send me a schedule of the salary and level of everyone in the \nscheduling group.  Plus your thoughts on any changes that need to be made.  \n(Patti S for example)\n\nPhillip",
                  "_deepnote_index_column": 3
                },
                {
                  "content": "Let's shoot for Tuesday at 11:45.  ",
                  "_deepnote_index_column": 4
                }
              ]
            },
            "text/plain": "                                             content\n0                          Here is our forecast\\n\\n \n1  Traveling to have a business meeting takes the...\n2                     test successful.  way to go!!!\n3  Randy,\\n\\n Can you send me a schedule of the s...\n4                Let's shoot for Tuesday at 11:45.  ",
            "text/html": "<div>\n<style scoped>\n    .dataframe tbody tr th:only-of-type {\n        vertical-align: middle;\n    }\n\n    .dataframe tbody tr th {\n        vertical-align: top;\n    }\n\n    .dataframe thead th {\n        text-align: right;\n    }\n</style>\n<table border=\"1\" class=\"dataframe\">\n  <thead>\n    <tr style=\"text-align: right;\">\n      <th></th>\n      <th>content</th>\n    </tr>\n  </thead>\n  <tbody>\n    <tr>\n      <th>0</th>\n      <td>Here is our forecast\\n\\n</td>\n    </tr>\n    <tr>\n      <th>1</th>\n      <td>Traveling to have a business meeting takes the...</td>\n    </tr>\n    <tr>\n      <th>2</th>\n      <td>test successful.  way to go!!!</td>\n    </tr>\n    <tr>\n      <th>3</th>\n      <td>Randy,\\n\\n Can you send me a schedule of the s...</td>\n    </tr>\n    <tr>\n      <th>4</th>\n      <td>Let's shoot for Tuesday at 11:45.</td>\n    </tr>\n  </tbody>\n</table>\n</div>"
          },
          "metadata": {}
        }
      ],
      "execution_count": null,
      "block_group": "0ce725abf89740e983a584dc0c56fb1a"
    },
    {
      "cell_type": "code",
      "source": "#Checking a random email\nprint(emails[\"content\"].iloc[1])",
      "metadata": {
        "source_hash": null,
        "execution_start": 1692539662216,
        "execution_millis": 18,
        "deepnote_app_coordinates": {
          "h": 5,
          "w": 12,
          "x": 0,
          "y": 0
        },
        "deepnote_to_be_reexecuted": false,
        "deepnote_app_is_code_hidden": false,
        "deepnote_app_is_output_hidden": false,
        "cell_id": "2e5012511afa4299b094636062e78b2a",
        "deepnote_cell_type": "code"
      },
      "outputs": [
        {
          "name": "stdout",
          "text": "Traveling to have a business meeting takes the fun out of the trip.  Especially if you have to prepare a presentation.  I would suggest holding the business plan meetings here then take a trip without any formal business meetings.  I would even try and get some honest opinions on whether a trip is even desired or necessary.\n\nAs far as the business meetings, I think it would be more productive to try and stimulate discussions across the different groups about what is working and what is not.  Too often the presenter speaks and the others are quiet just waiting for their turn.   The meetings might be better if held in a round table discussion format.  \n\nMy suggestion for where to go is Austin.  Play golf and rent a ski boat and jet ski's.  Flying somewhere takes too much time.\n\n",
          "output_type": "stream"
        }
      ],
      "execution_count": null,
      "block_group": "2e5012511afa4299b094636062e78b2a"
    },
    {
      "cell_type": "code",
      "source": "print(emails[\"content\"].iloc[61])",
      "metadata": {
        "source_hash": null,
        "execution_start": 1692539662218,
        "execution_millis": 137,
        "deepnote_app_coordinates": {
          "h": 5,
          "w": 12,
          "x": 0,
          "y": 0
        },
        "deepnote_to_be_reexecuted": false,
        "deepnote_app_is_code_hidden": false,
        "deepnote_app_is_output_hidden": false,
        "cell_id": "33416accabc04efb8b20f2929534e9fe",
        "deepnote_cell_type": "code"
      },
      "outputs": [
        {
          "name": "stdout",
          "text": "\n---------------------- Forwarded by Phillip K Allen/HOU/ECT on 05/01/2001 0=\n2:14 PM ---------------------------\n\n\nOutlook Migration Team@ENRON\n04/27/2001 01:01 PM\nTo:=09Allison Horton/NA/Enron@ENRON, Amir Baig/NA/Enron@ENRON, Brandon Bang=\nerter/NA/Enron@Enron, Brian Ellis/Corp/Enron@Enron, Charles Philpott/HR/Cor=\np/Enron@ENRON, Chris P Wood/NA/Enron@Enron, Chris Tull/HOU/ECT@ECT, Dale Sm=\nith/Corp/Enron@ENRON, Dave June/NA/Enron@ENRON, Donald Sutton/NA/Enron@Enro=\nn, Felicia Buenrostro/HR/Corp/Enron@ENRON, Johnna Morrison/Corp/Enron@ENRON=\n, Joe Dorn/Corp/Enron@ENRON, Kathryn Schultea/HR/Corp/Enron@ENRON, Leon McD=\nowell/NA/Enron@ENRON, Leticia Barrios/Corp/Enron@ENRON, Milton Brown/HR/Cor=\np/Enron@ENRON, Raj Perubhatla/Corp/Enron@Enron, Shekar Komatireddy/NA/Enron=\n@Enron, Andrea Yowman/Corp/Enron@ENRON, Angie O'Brian/HR/Corp/Enron@ENRON, =\nBonne Castellano/HR/Corp/Enron@ENRON, Gwynn Gorsuch/NA/Enron@ENRON, Jo Ann =\nMatson/Corp/Enron@ENRON, LaQuitta Washington/HR/Corp/Enron@ENRON, Rick John=\nson/HR/Corp/Enron@ENRON, Sandra Lighthill/HR/Corp/Enron@ENRON, Valeria A Ho=\npe/HOU/ECT@ECT, Charlotte Brown/HR/Corp/Enron@ENRON, Ronald Fain/HR/Corp/En=\nron@ENRON, Gary Fitch/HR/Corp/Enron@Enron, Anna Harris/HR/Corp/Enron@ENRON,=\n Keith Jones/HR/Corp/Enron@ENRON, Kristi Monson/NA/Enron@Enron, Bobbie McNi=\nel/HR/Corp/Enron@ENRON, John Stabler/HR/Corp/Enron@ENRON, Michelle Prince/N=\nA/Enron@Enron, James Gramke/NA/Enron@ENRON, Blair Hicks/NA/Enron@ENRON, Jen=\nnifer Johnson/Contractor/Enron Communications@Enron Communications, Jim Lit=\ntle/Enron@EnronXGate, Dale Lukert/NA/Enron@ENRON, Donald Martin/NA/Enron@EN=\nRON, Andrew Mattei/NA/Enron@ENRON, Darvin Mitchell/NA/Enron@ENRON, Mark Old=\nham/NA/Enron@ENRON, Wesley Pearson/NA/Enron@ENRON, Ramon Pizarro/ENRON_DEVE=\nLOPMENT@ENRON_DEVELOPMENT, Natalie Rau/NA/Enron@ENRON, William Redick/NA/En=\nron@ENRON, Mark A Richardson/NA/Enron@ENRON, Joseph Schnieders/NA/Enron@ENR=\nON, Gary Simmons/NA/Enron@Enron, Delaney Trimble/NA/Enron@ENRON, David Upto=\nn/NA/Enron@ENRON, Mike Boegler/HR/Corp/Enron@ENRON, Lyndel Click/HR/Corp/En=\nron@ENRON, Gabriel Franco/NA/Enron@Enron, Randy Gross/HR/Corp/Enron@Enron, =\nArthur Johnson/HR/Corp/Enron@Enron, Danny Jones/HR/Corp/Enron@ENRON, John O=\ngden/Houston/Eott@Eott, Edgar Ponce/NA/Enron@Enron, Tracy Pursifull/HR/Corp=\n/Enron@ENRON, Lance Stanley/HR/Corp/Enron@ENRON, Frank Ermis/HOU/ECT@ECT, J=\nane M Tholt/HOU/ECT@ECT, Jay Reitmeyer/HOU/ECT@ECT, Keith Holst/HOU/ECT@ect=\n, Matthew Lenhart/HOU/ECT@ECT, Mike Grigsby/HOU/ECT@ECT, Monique Sanchez/HO=\nU/ECT@ECT, Phillip K Allen/HOU/ECT@ECT, Randall L Gay/HOU/ECT@ECT, Tori Kuy=\nkendall/HOU/ECT@ECT, Brenda H Fletcher/HOU/ECT@ECT, Jeanne Wukasch/Corp/Enr=\non@ENRON, Mary Theresa Franklin/HOU/ECT@ECT, Mike Potter/NA/Enron@Enron, Na=\ntalie Baker/HOU/ECT@ECT, Suzanne Calcagno/NA/Enron@Enron, Alvin Thompson/Co=\nrp/Enron@Enron, Cynthia Franklin/Corp/Enron@ENRON, Jesse Villarreal/HOU/ECT=\n@ECT, Joan Collins/HOU/EES@EES, Joe A Casas/HOU/ECT@ECT, Kelly Loocke/ENRON=\n@enronXgate, Lia Halstead/NA/Enron@ENRON, Meredith Homco/HOU/ECT@ECT, Rober=\nt Allwein/HOU/ECT@ECT, Scott Loving/NA/Enron@ENRON, Shanna Boudreaux/ENRON@=\nenronXgate, Steve Gillespie/Corp/Enron@ENRON, Tamara Carter/NA/Enron@ENRON,=\n Tracy Wood/NA/Enron@ENRON, Gabriel Fuzat/Enron Communications@Enron Commun=\nications, Jack Netek/Enron Communications@Enron Communications, Lam Nguyen/=\nNA/Enron@Enron, Camille Gerard/Corp/Enron@ENRON, Craig Taylor/HOU/ECT@ECT, =\nJessica Hangach/NYC/MGUSA@MGUSA, Kathy Gagel/NYC/MGUSA@MGUSA, Lisa Goulart/=\nNYC/MGUSA@MGUSA, Ruth Balladares/NYC/MGUSA@MGUSA, Sid Strutt/NYC/MGUSA@MGUS=\nA\ncc:=09=20\nSubject:=094-URGENT - OWA Please print this now.\n\n\nCurrent Notes User:\n\nREASONS FOR USING OUTLOOK WEB ACCESS (OWA)\n\n1. Once your mailbox has been migrated from Notes to Outlook, the Outlook c=\nlient will be configured on your computer.\nAfter migration of your mailbox, you will not be able to send or recieve ma=\nil via Notes, and you will not be able to start using Outlook until it is c=\nonfigured by the Outlook Migration team the morning after your mailbox is m=\nigrated.  During this period, you can use Outlook Web Access (OWA) via your=\n web browser (Internet Explorer 5.0) to read and send mail.\n\nPLEASE NOTE:  Your calendar entries, personal address book, journals, and T=\no-Do entries imported from Notes will not be available until the Outlook cl=\nient is configured on your desktop.\n\n2. Remote access to your mailbox.\nAfter your Outlook client is configured, you can use Outlook Web Access (OW=\nA) for remote access to your mailbox.\n\nPLEASE NOTE:  At this time, the OWA client is only accessible while connect=\ning to the Enron network (LAN).  There are future plans to make OWA availab=\nle from your home or when traveling abroad.\n\nHOW TO ACCESS OUTLOOK WEB ACCESS (OWA)\n\nLaunch Internet Explorer 5.0, and in the address window type:  http://nahou=\n-msowa01p/exchange/john.doe\n\nSubstitute \"john.doe\" with your first and last name, then click ENTER.  You=\n will be prompted with a sign in box as shown below.  Type in \"corp/your us=\ner id\" for the user name and your NT password to logon to OWA and click OK.=\n  You will now be able to view your mailbox.\n\n=09\n\nPLEASE NOTE:  There are some subtle differences in the functionality betwee=\nn the Outlook and OWA clients.  You will not be able to do many of the thin=\ngs in OWA that you can do in Outlook.  Below is a brief list of *some* of t=\nhe functions NOT available via OWA:\n\nFeatures NOT available using OWA:\n\n-  Tasks\n-  Journal\n-  Spell Checker\n-  Offline Use\n-  Printing Templates\n-  Reminders\n-  Timed Delivery\n-  Expiration\n-  Outlook Rules\n-  Voting, Message Flags and Message Recall\n-  Sharing Contacts with others\n-  Task Delegation\n-  Direct Resource Booking\n-  Personal Distribution Lists\n\nQUESTIONS OR CONCERNS?\n\nIf you have questions or concerns using the OWA client, please contact the =\nOutlook 2000 question and answer Mailbox at:\n\n=09Outlook.2000@enron.com\n\nOtherwise, you may contact the Resolution Center at:\n\n=09713-853-1411\n\nThank you,\n\nOutlook 2000 Migration Team\n\n",
          "output_type": "stream"
        }
      ],
      "execution_count": null,
      "block_group": "33416accabc04efb8b20f2929534e9fe"
    },
    {
      "cell_type": "code",
      "source": "emails['content'].str.contains('Outlook Migration Team@ENRON')",
      "metadata": {
        "source_hash": null,
        "execution_start": 1692539662307,
        "execution_millis": 581,
        "deepnote_app_coordinates": {
          "h": 5,
          "w": 12,
          "x": 0,
          "y": 0
        },
        "deepnote_to_be_reexecuted": false,
        "deepnote_app_is_code_hidden": false,
        "deepnote_app_is_output_hidden": false,
        "cell_id": "d508a47fa3ca42d4be4f3045aa56edc4",
        "deepnote_cell_type": "code"
      },
      "outputs": [
        {
          "output_type": "execute_result",
          "execution_count": 13,
          "data": {
            "text/plain": "0         False\n1         False\n2         False\n3         False\n4         False\n          ...  \n517396    False\n517397    False\n517398    False\n517399    False\n517400    False\nName: content, Length: 517401, dtype: bool"
          },
          "metadata": {}
        }
      ],
      "execution_count": null,
      "block_group": "d508a47fa3ca42d4be4f3045aa56edc4"
    },
    {
      "cell_type": "code",
      "source": "outlook_migration_emails = emails[emails['content'].str.contains('Outlook Migration Team@ENRON')]\nprint(\"No of migration emails\", outlook_migration_emails.shape[0])",
      "metadata": {
        "source_hash": null,
        "execution_start": 1692539662957,
        "execution_millis": 428,
        "deepnote_app_coordinates": {
          "h": 5,
          "w": 12,
          "x": 0,
          "y": 0
        },
        "deepnote_to_be_reexecuted": false,
        "deepnote_app_is_code_hidden": false,
        "deepnote_app_is_output_hidden": false,
        "cell_id": "0afed33edab4436bad5e809f9dd3f91a",
        "deepnote_cell_type": "code"
      },
      "outputs": [
        {
          "name": "stdout",
          "text": "No of migration emails 99\n",
          "output_type": "stream"
        }
      ],
      "execution_count": null,
      "block_group": "0afed33edab4436bad5e809f9dd3f91a"
    },
    {
      "cell_type": "code",
      "source": "emails = emails[~emails['content'].str.contains('Outlook Migration Team@ENRON')]",
      "metadata": {
        "source_hash": null,
        "execution_start": 1692539663459,
        "execution_millis": 453,
        "deepnote_app_coordinates": {
          "h": 5,
          "w": 12,
          "x": 0,
          "y": 0
        },
        "deepnote_to_be_reexecuted": false,
        "deepnote_app_is_code_hidden": false,
        "cell_id": "5be32f689ab84d8ca3ad692f300bc340",
        "deepnote_cell_type": "code"
      },
      "outputs": [],
      "execution_count": null,
      "block_group": "5be32f689ab84d8ca3ad692f300bc340"
    },
    {
      "cell_type": "code",
      "source": "trade_count_emails = emails[emails['content'].str.contains('Trade Counts and Volume')]\nprint(trade_count_emails[\"content\"].shape[0])",
      "metadata": {
        "source_hash": null,
        "execution_start": 1692539663984,
        "execution_millis": 927,
        "deepnote_app_coordinates": {
          "h": 5,
          "w": 12,
          "x": 0,
          "y": 0
        },
        "deepnote_to_be_reexecuted": false,
        "deepnote_app_is_code_hidden": false,
        "deepnote_app_is_output_hidden": false,
        "cell_id": "6a769208ee124b6ead84d2f992dddc21",
        "deepnote_cell_type": "code"
      },
      "outputs": [
        {
          "name": "stdout",
          "text": "46\n",
          "output_type": "stream"
        }
      ],
      "execution_count": null,
      "block_group": "6a769208ee124b6ead84d2f992dddc21"
    },
    {
      "cell_type": "code",
      "source": "print(trade_count_emails[\"content\"].iloc[0])",
      "metadata": {
        "source_hash": null,
        "execution_start": 1692539664587,
        "execution_millis": 132,
        "deepnote_app_coordinates": {
          "h": 5,
          "w": 12,
          "x": 0,
          "y": 0
        },
        "deepnote_to_be_reexecuted": false,
        "deepnote_app_is_code_hidden": false,
        "deepnote_app_is_output_hidden": false,
        "cell_id": "c60368382e784947895a093c8359721f",
        "deepnote_cell_type": "code"
      },
      "outputs": [
        {
          "name": "stdout",
          "text": "EnronOnline\nTrade Counts and Volume for May 14, 2001 \n\t\t\tEXTERNAL\t\tINTERNAL\t\tTOTAL\t\t\nCOUNTRY\tCOMMODITY\tCATEGORY\tCOUNT\tQTY\tCOUNT\tQTY\tCOUNT\tQTY\tUNIT OF MEASURE\nAustria\tPower\tPhysical\t        13 \t           10,300 \t        -   \t                 \n  -   \t        13 \t           10,300 \tMWh\nBelgium\tNatural Gas\tPhysical\t        10 \t      1,065,000 \t        -   \t                \n   -   \t        10 \t      1,065,000 \tMMBtu\nCanada\tNatural Gas\tFinancial\t          7 \t      3,655,000 \t          1 \t         \n155,000 \t          8 \t      3,810,000 \tMMBtu\nCanada\tNatural Gas\tPhysical\t      235 \t    14,076,271 \t        -   \t                   \n-   \t      235 \t    14,076,271 \tMMBtu\nCanada\tPower\tFinancial\t        18 \t           20,642 \t        -   \t                 \n  -   \t        18 \t           20,642 \tMWh (Canada)\nFrance\tPower\tPhysical\t          1 \t             4,741 \t        -   \t                \n   -   \t          1 \t             4,741 \tMWh\nGermany\tPower\tPhysical\t        68 \t         239,804 \t        -   \t                  \n -   \t        68 \t         239,804 \tMWh\nNetherlands\tPower\tPhysical\t          1 \t                600 \t        -   \t          \n         -   \t          1 \t                600 \tMWh\nNorway\tPower\tFinancial\t        23 \t         441,192 \t        -   \t                  \n -   \t        23 \t         441,192 \tMWh\nSingapore\tCrude\tFinancial\t          1 \t           50,000 \t          1 \t           \n50,000 \t          2 \t         100,000 \tBarrel\nSingapore\tOil Products\tFinancial\t          1 \t         150,000 \t        -   \t               \n    -   \t          1 \t         150,000 \tBarrel\nSwitzerland\tPower\tPhysical\t        26 \t           36,593 \t        -   \t             \n      -   \t        26 \t           36,593 \tMWh\nUnited Kingdom\tCrude\tFinancial\t          3 \t         350,000 \t          2 \t           \n50,000 \t          5 \t         400,000 \tBarrel\nUnited Kingdom\tLPG\tFinancial\t          3 \t           10,000 \t        -   \t                 \n  -   \t          3 \t           10,000 \tmt \nUnited Kingdom\tMetals\tFinancial\t      500 \t           10,830 \t        81 \t             \n1,625 \t      581 \t           12,455 \tLME Registered mt Lot\nUnited Kingdom\tNatural Gas\tPhysical NBP\t      135 \t    19,881,050 \t          2 \t           \n95,000 \t      137 \t    19,976,050 \tMMBtu\nUnited Kingdom\tOil Products\tFinancial\t          1 \t           22,350 \t        -   \t                \n   -   \t          1 \t           22,350 \tBarrel per month\nUnited Kingdom\tOil Products\tFinancial\t          3 \t           15,000 \t        -   \t                \n   -   \t          3 \t           15,000 \tIPE mt\nUnited Kingdom\tPower\tPhysical\t        13 \t         846,720 \t        -   \t                  \n -   \t        13 \t         846,720 \tMWh\nUnited Kingdom\tSea Freight\tFinancial\t          1 \t                  15 \t          1 \t             \n     15 \t          2 \t                  30 \tSea Freight Lots\nUSA\tCoal\tPhysical\t          1 \t                    4 \t        -   \t                 \n  -   \t          1 \t                    4 \tCOAL-Tons/Barges/Mnth\nUSA\tCrude\tFinancial\t      162 \t      7,225,000 \t        97 \t      3,915,000 \t      \n259 \t    11,140,000 \tBarrel\nUSA\tCrude\tFinancial Option\t          2 \t           75,000 \t          1 \t           50,000 \t\n          3 \t         125,000 \tBarrel\nUSA\tCrude\tPhysical\t          8 \t      1,143,000 \t        -   \t                   \n-   \t          8 \t      1,143,000 \tBarrel\nUSA\tEmissions\tPhysical\t          2 \t\t        -   \t\t          2 \t                   \n-   \tEmission allowance\nUSA\tGas Pipeline Capacity\tPhysical\t          2 \t           20,000 \t        -   \t            \n       -   \t          2 \t           20,000 \tMMBtu\nUSA\tLPG\tFinancial\t          2 \t           55,000 \t        -   \t                   \n-   \t          2 \t           55,000 \tGallon\nUSA\tLPG\tPhysical\t          1 \t             5,000 \t        -   \t                   \n-   \t          1 \t             5,000 \tGallon\nUSA\tLumber\tPhysical\t          4 \t                  14 \t        -   \t                \n   -   \t          4 \t                  14 \tThousand Board Feet\nUSA\tNatural Gas\tFinancial\t      874 \t  337,955,873 \t      389 \t  126,439,578 \t   1,263 \t \n 464,395,451 \tMMBtu\nUSA\tNatural Gas\tFinancial Option\t          9 \t      9,010,000 \t          3 \t      3,000,000 \t \n       12 \t    12,010,000 \tMMBtu\nUSA\tNatural Gas\tPhysical\t   1,808 \t    16,749,218 \t        41 \t         781,899 \t   \n1,849 \t    17,531,117 \tMMBtu\nUSA\tOil Products\tFinancial\t        38 \t         854,524 \t          3 \t           30,715 \t    \n    41 \t         885,239 \tBarrel\nUSA\tPaper\tPhysical\t          1 \t                  40 \t        -   \t                 \n  -   \t          1 \t                  40 \tMetric Tons (+/- 5%)\nUSA\tPetchems\tFinancial\t          1 \t           30,000 \t        -   \t                \n   -   \t          1 \t           30,000 \tGallon\nUSA\tPower\tFinancial\t        27 \t         244,469 \t        10 \t           67,530 \t    \n    37 \t         311,999 \tMWh\nUSA\tPower\tPhysical\t      427 \t      4,371,728 \t      154 \t      2,483,741 \t      581 \t\n      6,855,468 \tMWh\nUSA\tRate and Currency\tFinancial\t        -   \t                   -   \t          3 \t      \n5,900,000 \t          3 \t      5,900,000 \tEUR/1\nUSA\tRate and Currency\tFinancial\t        -   \t                   -   \t          2 \t      \n4,000,000 \t          2 \t      4,000,000 \tFX USD\nUSA\tRate and Currency\tFinancial\t        -   \t                   -   \t          3 \t      \n1,090,000 \t          3 \t      1,090,000 \tGBP/1\nUSA\tRate and Currency\tFinancial\t        -   \t                   -   \t          3 \t      \n1,154,000 \t          3 \t      1,154,000 \tUSD/1\nUSA\tWeather\tFinancial\t          6 \t                  14 \t        -   \t              \n     -   \t          6 \t                  14 \tCooling Degree Day\n\t\t\t   4,438 \t\t      797 \t\t   5,235 \t\t\n",
          "output_type": "stream"
        }
      ],
      "execution_count": null,
      "block_group": "c60368382e784947895a093c8359721f"
    },
    {
      "cell_type": "code",
      "source": "emails = emails[~emails['content'].str.contains('Trade Counts and Volume')]",
      "metadata": {
        "source_hash": null,
        "execution_start": 1692539664678,
        "execution_millis": 586,
        "deepnote_app_coordinates": {
          "h": 5,
          "w": 12,
          "x": 0,
          "y": 0
        },
        "deepnote_to_be_reexecuted": false,
        "deepnote_app_is_code_hidden": false,
        "cell_id": "9213839d819f490cabd8f6222c806a5e",
        "deepnote_cell_type": "code"
      },
      "outputs": [],
      "execution_count": null,
      "block_group": "9213839d819f490cabd8f6222c806a5e"
    },
    {
      "cell_type": "code",
      "source": "print(emails[\"content\"].iloc[9])",
      "metadata": {
        "source_hash": null,
        "execution_start": 1692539665167,
        "execution_millis": 11,
        "deepnote_app_coordinates": {
          "h": 5,
          "w": 12,
          "x": 0,
          "y": 0
        },
        "deepnote_to_be_reexecuted": false,
        "deepnote_app_is_code_hidden": false,
        "deepnote_app_is_output_hidden": false,
        "cell_id": "6462eaa909c540728d413350ddb76ac1",
        "deepnote_cell_type": "code"
      },
      "outputs": [
        {
          "name": "stdout",
          "text": "---------------------- Forwarded by Phillip K Allen/HOU/ECT on 10/16/2000 \n01:42 PM ---------------------------\n\n\n\"Buckner, Buck\" <buck.buckner@honeywell.com> on 10/12/2000 01:12:21 PM\nTo: \"'Pallen@Enron.com'\" <Pallen@Enron.com>\ncc:  \nSubject: FW: fixed forward or other Collar floor gas price terms\n\n\nPhillip,\n\n> As discussed  during our phone conversation, In a Parallon 75 microturbine\n> power generation deal for a national accounts customer, I am developing a\n> proposal to sell power to customer at fixed or collar/floor price. To do\n> so I need a corresponding term gas price for same. Microturbine is an\n> onsite generation product developed by Honeywell to generate electricity\n> on customer site (degen). using natural gas. In doing so,  I need your\n> best fixed price forward gas price deal for 1, 3, 5, 7 and 10 years for\n> annual/seasonal supply to microturbines to generate fixed kWh for\n> customer. We have the opportunity to sell customer kWh 's using\n> microturbine or sell them turbines themselves. kWh deal must have limited/\n> no risk forward gas price to make deal work. Therein comes Sempra energy\n> gas trading, truly you.\n>\n> We are proposing installing 180 - 240 units across a large number of\n> stores (60-100) in San Diego.\n> Store number varies because of installation hurdles face at small percent.\n>\n> For 6-8 hours a day  Microturbine run time:\n> Gas requirement for 180 microturbines 227 - 302 MMcf per year\n> Gas requirement for 240 microturbines 302 - 403 MMcf per year\n>\n> Gas will likely be consumed from May through September, during peak\n> electric period.\n> Gas price required: Burnertip price behind (LDC) San Diego Gas & Electric\n> Need detail breakout of commodity and transport cost (firm or\n> interruptible).\n>\n> Should you have additional questions, give me a call.\n> Let me assure you, this is real deal!!\n>\n> Buck Buckner, P.E., MBA\n> Manager, Business Development and Planning\n> Big Box Retail Sales\n> Honeywell Power Systems, Inc.\n> 8725 Pan American Frwy\n> Albuquerque, NM 87113\n> 505-798-6424\n> 505-798-6050x\n> 505-220-4129\n> 888/501-3145\n> \n\n",
          "output_type": "stream"
        }
      ],
      "execution_count": null,
      "block_group": "6462eaa909c540728d413350ddb76ac1"
    },
    {
      "cell_type": "code",
      "source": "emails = emails[~emails['content'].str.contains('---------------------- Forwarded by')]\nemails = emails[~emails['content'].str.contains('-----Original Message-----')]",
      "metadata": {
        "source_hash": null,
        "execution_start": 1692539665252,
        "execution_millis": 1147,
        "deepnote_app_coordinates": {
          "h": 5,
          "w": 12,
          "x": 0,
          "y": 0
        },
        "deepnote_to_be_reexecuted": false,
        "deepnote_app_is_code_hidden": false,
        "cell_id": "bd363c7027524806ab66d6f51b820d15",
        "deepnote_cell_type": "code"
      },
      "outputs": [],
      "execution_count": null,
      "block_group": "bd363c7027524806ab66d6f51b820d15"
    },
    {
      "cell_type": "code",
      "source": "emails.shape",
      "metadata": {
        "source_hash": null,
        "execution_start": 1692539666369,
        "execution_millis": 8,
        "deepnote_app_coordinates": {
          "h": 5,
          "w": 12,
          "x": 0,
          "y": 0
        },
        "deepnote_to_be_reexecuted": false,
        "deepnote_app_is_code_hidden": false,
        "deepnote_app_is_output_hidden": false,
        "cell_id": "deee3f0e9e8e480180d5b51b9bb592d1",
        "deepnote_cell_type": "code"
      },
      "outputs": [
        {
          "output_type": "execute_result",
          "execution_count": 21,
          "data": {
            "text/plain": "(367318, 1)"
          },
          "metadata": {}
        }
      ],
      "execution_count": null,
      "block_group": "deee3f0e9e8e480180d5b51b9bb592d1"
    },
    {
      "cell_type": "code",
      "source": "emails.to_csv('email_content.csv', index = False, index_label=True)",
      "metadata": {
        "source_hash": null,
        "execution_start": 1692539666375,
        "execution_millis": 11095,
        "deepnote_app_coordinates": {
          "h": 5,
          "w": 12,
          "x": 0,
          "y": 0
        },
        "deepnote_to_be_reexecuted": false,
        "deepnote_app_is_code_hidden": false,
        "cell_id": "39fceecb91f3432599566e9348c95e64",
        "deepnote_cell_type": "code"
      },
      "outputs": [],
      "execution_count": null,
      "block_group": "39fceecb91f3432599566e9348c95e64"
    },
    {
      "cell_type": "code",
      "source": "# Function to check if a text contain numbers\ndef containNumbers(text):\n    # check if there is any number in the text\n    return bool(re.search(r'\\d', text))",
      "metadata": {
        "source_hash": null,
        "execution_start": 1692539677456,
        "execution_millis": 36,
        "deepnote_app_coordinates": {
          "h": 5,
          "w": 12,
          "x": 0,
          "y": 0
        },
        "deepnote_to_be_reexecuted": false,
        "deepnote_app_is_code_hidden": false,
        "cell_id": "34dcafb921d44e1391739951e35233d8",
        "deepnote_cell_type": "code"
      },
      "outputs": [],
      "execution_count": null,
      "block_group": "34dcafb921d44e1391739951e35233d8"
    },
    {
      "cell_type": "code",
      "source": "def notContainSpecialCharacters(text):\n    # compile the special characters patter into regular expression object\n    regexp = re.compile(\"\"\"[-+=*@_#`\"$%^&*[\\]\\()<>/\\|}{~:]\"\"\")\n    \n    # Search for this pattern in the text and return true if it is so\n    if regexp.search(text) == None:\n        return True\n    else:\n        return False",
      "metadata": {
        "source_hash": null,
        "execution_start": 1692539677458,
        "execution_millis": 16,
        "deepnote_app_coordinates": {
          "h": 5,
          "w": 12,
          "x": 0,
          "y": 0
        },
        "deepnote_to_be_reexecuted": false,
        "deepnote_app_is_code_hidden": false,
        "cell_id": "7b6a76d82dc248b3ace4698d6b48eca9",
        "deepnote_cell_type": "code"
      },
      "outputs": [],
      "execution_count": null,
      "block_group": "7b6a76d82dc248b3ace4698d6b48eca9"
    },
    {
      "cell_type": "code",
      "source": "CONTRACTION_MAPPING = {\n    \"won't\": \"will not\",\n    \"can't\": \"can not\",\n    \"n't\": \" not\",\n    \"'re\": \" are\",\n    \"'s\": \" is\",\n    \"'d\": \" would\",\n    \"'ll\": \" will\",\n    \"'ve\": \" have\",\n    \"'m\": \" am\",\n}\n\ndef removeShortForms(text):\n    for contraction, expansion in CONTRACTION_MAPPING.items():\n        text = re.sub(contraction, expansion, text)\n    return text",
      "metadata": {
        "source_hash": null,
        "execution_start": 1692539677473,
        "execution_millis": 1005,
        "deepnote_app_coordinates": {
          "h": 5,
          "w": 12,
          "x": 0,
          "y": 0
        },
        "deepnote_to_be_reexecuted": false,
        "deepnote_app_is_code_hidden": false,
        "cell_id": "0543a39ae9fd481280c55e204d5290d7",
        "deepnote_cell_type": "code"
      },
      "outputs": [],
      "execution_count": null,
      "block_group": "0543a39ae9fd481280c55e204d5290d7"
    },
    {
      "cell_type": "code",
      "source": "def removeSpaceAndConvertToLowerCase(text):\n    # removes anything other than alphabets\n    text = re.sub(' [^a-za-z]+', ' ', text)\n    \n    # remove extra spaces and convert to lowercase\n    return ' '.join(text.split()).strip().lower()",
      "metadata": {
        "source_hash": null,
        "execution_start": 1692539677483,
        "execution_millis": 36,
        "deepnote_app_coordinates": {
          "h": 5,
          "w": 12,
          "x": 0,
          "y": 0
        },
        "deepnote_to_be_reexecuted": false,
        "deepnote_app_is_code_hidden": false,
        "cell_id": "4fd013ed4bfd49468bbd6ffb15496ccb",
        "deepnote_cell_type": "code"
      },
      "outputs": [],
      "execution_count": null,
      "block_group": "4fd013ed4bfd49468bbd6ffb15496ccb"
    },
    {
      "cell_type": "code",
      "source": "test_string = \"Feel free to call me at +1 938 747 295.\"\nremoveSpaceAndConvertToLowerCase(test_string)",
      "metadata": {
        "source_hash": null,
        "execution_start": 1692539677504,
        "execution_millis": 21,
        "deepnote_app_coordinates": {
          "h": 5,
          "w": 12,
          "x": 0,
          "y": 0
        },
        "deepnote_to_be_reexecuted": false,
        "deepnote_app_is_code_hidden": false,
        "deepnote_app_is_output_hidden": false,
        "cell_id": "81c58d02d9824714a74c3af93bdcff89",
        "deepnote_cell_type": "code"
      },
      "outputs": [
        {
          "output_type": "execute_result",
          "execution_count": 27,
          "data": {
            "text/plain": "'feel free to call me at'"
          },
          "metadata": {}
        }
      ],
      "execution_count": null,
      "block_group": "81c58d02d9824714a74c3af93bdcff89"
    },
    {
      "cell_type": "code",
      "source": "def getPreprocessedSentencesFromEmail(email):\n    sentences = []\n    # split the full email on sentence boundary and iterate\n    for sentence in email.split('.'):\n        \n        # remove leading and trailing spaces from the sentence\n        sentence = sentence.strip()\n        \n        # Find out the number of words in the sentence\n        no_of_words = len(sentence.split())\n        \n        if 3 <= no_of_words <= 25 \\\n            and sentence[0].isupper() and sentence[1:].islower() \\\n            and not containNumbers(sentence) \\\n            and notContainSpecialCharacters(sentence): \n                \n                # Expand the contracted words\n                sentence = removeShortForms(sentence)\n                \n                # Split sentence from question mark\n                for j in re.split('(?<=[?]) +', sentence):\n                    \n                    # Remove extra spaces and append to list\n                    sentences.append(removeSpaceAndConvertToLowerCase(j))\n                    \n    return pd.DataFrame({'sentence': sentences})",
      "metadata": {
        "source_hash": null,
        "execution_start": 1692539677506,
        "execution_millis": 18,
        "deepnote_app_coordinates": {
          "h": 5,
          "w": 12,
          "x": 0,
          "y": 0
        },
        "deepnote_to_be_reexecuted": false,
        "deepnote_app_is_code_hidden": false,
        "cell_id": "9ae80f7b13724b42a2a20cf1a71530cc",
        "deepnote_cell_type": "code"
      },
      "outputs": [],
      "execution_count": null,
      "block_group": "9ae80f7b13724b42a2a20cf1a71530cc"
    },
    {
      "cell_type": "code",
      "source": "def applyPreprocessingStepsOnAllEmails(emails):\n    \n    # Initialize an empty DataFrame to hold the results\n    result_df = pd.DataFrame()\n\n    # iterate over all the emails in the dataset\n    for index in range(emails.shape[0]):\n        \n        # for the first email a new data set will be created\n        if index == 0:\n            result_df = getPreprocessedSentencesFromEmail(emails.content.iloc[0])\n        else:\n            # for second email onwards the sentences will be appended at the end of the existing dataframe\n            result_df = pd.concat([result_df, getPreprocessedSentencesFromEmail(emails.content.iloc[index])], ignore_index=True)\n    result_df = result_df.drop_duplicates()\n    return result_df",
      "metadata": {
        "source_hash": null,
        "execution_start": 1692539677507,
        "execution_millis": 36,
        "deepnote_app_coordinates": {
          "h": 5,
          "w": 12,
          "x": 0,
          "y": 0
        },
        "deepnote_to_be_reexecuted": false,
        "deepnote_app_is_code_hidden": false,
        "cell_id": "71be3b76cac345379d1e606c17e6daf7",
        "deepnote_cell_type": "code"
      },
      "outputs": [],
      "execution_count": null,
      "block_group": "71be3b76cac345379d1e606c17e6daf7"
    },
    {
      "cell_type": "code",
      "source": "sentences = applyPreprocessingStepsOnAllEmails(emails)",
      "metadata": {
        "source_hash": null,
        "execution_start": 1692539677518,
        "execution_millis": 1695432,
        "deepnote_app_coordinates": {
          "h": 5,
          "w": 12,
          "x": 0,
          "y": 0
        },
        "deepnote_to_be_reexecuted": false,
        "deepnote_app_is_code_hidden": false,
        "cell_id": "6003dee6cb794b27b469794c940b0a83",
        "deepnote_cell_type": "code"
      },
      "outputs": [],
      "execution_count": null,
      "block_group": "6003dee6cb794b27b469794c940b0a83"
    },
    {
      "cell_type": "code",
      "source": "sentences.shape",
      "metadata": {
        "source_hash": null,
        "execution_start": 1692541372942,
        "execution_millis": 71,
        "deepnote_app_coordinates": {
          "h": 5,
          "w": 12,
          "x": 0,
          "y": 0
        },
        "deepnote_to_be_reexecuted": false,
        "deepnote_app_is_code_hidden": false,
        "deepnote_app_is_output_hidden": false,
        "cell_id": "7c23233ea9e64f329f7dbc23ad077104",
        "deepnote_cell_type": "code"
      },
      "outputs": [
        {
          "output_type": "execute_result",
          "execution_count": 31,
          "data": {
            "text/plain": "(153280, 1)"
          },
          "metadata": {}
        }
      ],
      "execution_count": null,
      "block_group": "7c23233ea9e64f329f7dbc23ad077104"
    },
    {
      "cell_type": "code",
      "source": "for sentence in sentences.sentence.sample(10, random_state=35):\n    print(sentence)",
      "metadata": {
        "source_hash": null,
        "execution_start": 1692541372943,
        "execution_millis": 7,
        "deepnote_app_coordinates": {
          "h": 5,
          "w": 12,
          "x": 0,
          "y": 0
        },
        "deepnote_to_be_reexecuted": false,
        "deepnote_app_is_code_hidden": false,
        "deepnote_app_is_output_hidden": true,
        "cell_id": "c16debf6b7fa4f63a0611895ceeb4f69",
        "deepnote_cell_type": "code"
      },
      "outputs": [
        {
          "name": "stdout",
          "text": "you may not see this deal come through the normal process\nwe tried hard, but we did not succeed\nthere is an incubation period after exposure to biological agents\ni am writing you to ask for your advice\nit is fresh and clean\nthere is no guarantee that systems, indicators, or trading signals will result in profits or that they will not result in losses\ni shall be listening to my voice messages\nplease take a look and provide any comments that you might have\nscan traditional photos\nderrick approved the waiver\n",
          "output_type": "stream"
        }
      ],
      "execution_count": null,
      "block_group": "c16debf6b7fa4f63a0611895ceeb4f69"
    },
    {
      "cell_type": "code",
      "source": "#save dataframe\nsentences.to_csv('sentences.csv', index = False, index_label = True)",
      "metadata": {
        "source_hash": null,
        "execution_start": 1692541372944,
        "execution_millis": 1624,
        "deepnote_app_coordinates": {
          "h": 5,
          "w": 12,
          "x": 0,
          "y": 0
        },
        "deepnote_to_be_reexecuted": false,
        "deepnote_app_is_code_hidden": false,
        "cell_id": "5977bf1eaf414ce38f969abdecbc5c1a",
        "deepnote_cell_type": "code"
      },
      "outputs": [],
      "execution_count": null,
      "block_group": "5977bf1eaf414ce38f969abdecbc5c1a"
    },
    {
      "cell_type": "code",
      "source": "sentence_df = pd.read_csv('sentences.csv')\nsentence_df = sentence_df.dropna()\nsentence_df.head()",
      "metadata": {
        "source_hash": null,
        "execution_start": 1692541373301,
        "execution_millis": 847,
        "deepnote_app_coordinates": {
          "h": 5,
          "w": 12,
          "x": 0,
          "y": 0
        },
        "deepnote_to_be_reexecuted": false,
        "deepnote_app_is_code_hidden": false,
        "deepnote_app_is_output_hidden": false,
        "cell_id": "e24596b9e1f74c1485e83d8973639ada",
        "deepnote_cell_type": "code"
      },
      "outputs": [
        {
          "output_type": "execute_result",
          "execution_count": 34,
          "data": {
            "application/vnd.deepnote.dataframe.v3+json": {
              "column_count": 1,
              "row_count": 5,
              "columns": [
                {
                  "name": "sentence",
                  "dtype": "object",
                  "stats": {
                    "unique_count": 5,
                    "nan_count": 0,
                    "categories": [
                      {
                        "name": "here is our forecast",
                        "count": 1
                      },
                      {
                        "name": "traveling to have a business meeting takes the fun out of the trip",
                        "count": 1
                      },
                      {
                        "name": "3 others",
                        "count": 3
                      }
                    ]
                  }
                },
                {
                  "name": "_deepnote_index_column",
                  "dtype": "int64"
                }
              ],
              "rows": [
                {
                  "sentence": "here is our forecast",
                  "_deepnote_index_column": 0
                },
                {
                  "sentence": "traveling to have a business meeting takes the fun out of the trip",
                  "_deepnote_index_column": 1
                },
                {
                  "sentence": "especially if you have to prepare a presentation",
                  "_deepnote_index_column": 2
                },
                {
                  "sentence": "i would suggest holding the business plan meetings here then take a trip without any formal business meetings",
                  "_deepnote_index_column": 3
                },
                {
                  "sentence": "i would even try and get some honest opinions on whether a trip is even desired or necessary",
                  "_deepnote_index_column": 4
                }
              ]
            },
            "text/plain": "                                            sentence\n0                               here is our forecast\n1  traveling to have a business meeting takes the...\n2   especially if you have to prepare a presentation\n3  i would suggest holding the business plan meet...\n4  i would even try and get some honest opinions ...",
            "text/html": "<div>\n<style scoped>\n    .dataframe tbody tr th:only-of-type {\n        vertical-align: middle;\n    }\n\n    .dataframe tbody tr th {\n        vertical-align: top;\n    }\n\n    .dataframe thead th {\n        text-align: right;\n    }\n</style>\n<table border=\"1\" class=\"dataframe\">\n  <thead>\n    <tr style=\"text-align: right;\">\n      <th></th>\n      <th>sentence</th>\n    </tr>\n  </thead>\n  <tbody>\n    <tr>\n      <th>0</th>\n      <td>here is our forecast</td>\n    </tr>\n    <tr>\n      <th>1</th>\n      <td>traveling to have a business meeting takes the...</td>\n    </tr>\n    <tr>\n      <th>2</th>\n      <td>especially if you have to prepare a presentation</td>\n    </tr>\n    <tr>\n      <th>3</th>\n      <td>i would suggest holding the business plan meet...</td>\n    </tr>\n    <tr>\n      <th>4</th>\n      <td>i would even try and get some honest opinions ...</td>\n    </tr>\n  </tbody>\n</table>\n</div>"
          },
          "metadata": {}
        }
      ],
      "execution_count": null,
      "block_group": "e24596b9e1f74c1485e83d8973639ada"
    },
    {
      "cell_type": "code",
      "source": "sentences = sentence_df.sentence.values\nprint(\"Total number of sentences: \", len(sentences))",
      "metadata": {
        "source_hash": null,
        "execution_start": 1692541373499,
        "execution_millis": 657,
        "deepnote_app_coordinates": {
          "h": 5,
          "w": 12,
          "x": 0,
          "y": 0
        },
        "deepnote_to_be_reexecuted": false,
        "deepnote_app_is_code_hidden": false,
        "deepnote_app_is_output_hidden": false,
        "cell_id": "419d321c10454997b3ef8e5f68806837",
        "deepnote_cell_type": "code"
      },
      "outputs": [
        {
          "name": "stdout",
          "text": "Total number of sentences:  153280\n",
          "output_type": "stream"
        }
      ],
      "execution_count": null,
      "block_group": "419d321c10454997b3ef8e5f68806837"
    },
    {
      "cell_type": "code",
      "source": "sentences[0:10]",
      "metadata": {
        "source_hash": null,
        "execution_start": 1692541373505,
        "execution_millis": 459,
        "deepnote_app_coordinates": {
          "h": 5,
          "w": 12,
          "x": 0,
          "y": 0
        },
        "deepnote_to_be_reexecuted": false,
        "deepnote_app_is_code_hidden": false,
        "deepnote_app_is_output_hidden": false,
        "cell_id": "f1b0e8b84e134d179086b648e285dd7d",
        "deepnote_cell_type": "code"
      },
      "outputs": [
        {
          "output_type": "execute_result",
          "execution_count": 36,
          "data": {
            "text/plain": "array(['here is our forecast',\n       'traveling to have a business meeting takes the fun out of the trip',\n       'especially if you have to prepare a presentation',\n       'i would suggest holding the business plan meetings here then take a trip without any formal business meetings',\n       'i would even try and get some honest opinions on whether a trip is even desired or necessary',\n       'too often the presenter speaks and the others are quiet just waiting for their turn',\n       'the meetings might be better if held in a round table discussion format',\n       'play golf and rent a ski boat and jet ski is',\n       'flying somewhere takes too much time',\n       'plus your thoughts on any changes that need to be made'],\n      dtype=object)"
          },
          "metadata": {}
        }
      ],
      "execution_count": null,
      "block_group": "f1b0e8b84e134d179086b648e285dd7d"
    },
    {
      "cell_type": "code",
      "source": "from tensorflow.keras.preprocessing.text import Tokenizer",
      "metadata": {
        "source_hash": null,
        "execution_start": 1692541373511,
        "execution_millis": 466,
        "deepnote_app_coordinates": {
          "h": 5,
          "w": 12,
          "x": 0,
          "y": 0
        },
        "deepnote_to_be_reexecuted": false,
        "deepnote_app_is_code_hidden": false,
        "cell_id": "1218c7a8d43c4e47a92b3b6aace292e9",
        "deepnote_cell_type": "code"
      },
      "outputs": [],
      "execution_count": null,
      "block_group": "1218c7a8d43c4e47a92b3b6aace292e9"
    },
    {
      "cell_type": "code",
      "source": "test_tokenizer = Tokenizer()",
      "metadata": {
        "source_hash": null,
        "execution_start": 1692541373520,
        "execution_millis": 483,
        "deepnote_app_coordinates": {
          "h": 5,
          "w": 12,
          "x": 0,
          "y": 0
        },
        "deepnote_to_be_reexecuted": false,
        "deepnote_app_is_code_hidden": false,
        "cell_id": "9f65d667aef74bd198868ccb2ebb2282",
        "deepnote_cell_type": "code"
      },
      "outputs": [],
      "execution_count": null,
      "block_group": "9f65d667aef74bd198868ccb2ebb2282"
    },
    {
      "cell_type": "code",
      "source": "test_sentences = ['here is our forecast',\n'especially if you have to prepare a presentation']\n\ntest_tokenizer.fit_on_texts(test_sentences)",
      "metadata": {
        "source_hash": null,
        "execution_start": 1692541373530,
        "execution_millis": 464,
        "deepnote_app_coordinates": {
          "h": 5,
          "w": 12,
          "x": 0,
          "y": 0
        },
        "deepnote_to_be_reexecuted": false,
        "deepnote_app_is_code_hidden": false,
        "cell_id": "d0f83ce3a9734ea4a8ff57d80797be2a",
        "deepnote_cell_type": "code"
      },
      "outputs": [],
      "execution_count": null,
      "block_group": "d0f83ce3a9734ea4a8ff57d80797be2a"
    },
    {
      "cell_type": "code",
      "source": "test_tokenizer.word_index",
      "metadata": {
        "source_hash": null,
        "execution_start": 1692541373537,
        "execution_millis": 687,
        "deepnote_app_coordinates": {
          "h": 5,
          "w": 12,
          "x": 0,
          "y": 0
        },
        "deepnote_to_be_reexecuted": false,
        "deepnote_app_is_code_hidden": false,
        "deepnote_app_is_output_hidden": false,
        "cell_id": "f5def6226ea54d1a852ce691b1207511",
        "deepnote_cell_type": "code"
      },
      "outputs": [
        {
          "output_type": "execute_result",
          "execution_count": 40,
          "data": {
            "text/plain": "{'here': 1,\n 'is': 2,\n 'our': 3,\n 'forecast': 4,\n 'especially': 5,\n 'if': 6,\n 'you': 7,\n 'have': 8,\n 'to': 9,\n 'prepare': 10,\n 'a': 11,\n 'presentation': 12}"
          },
          "metadata": {}
        }
      ],
      "execution_count": null,
      "block_group": "f5def6226ea54d1a852ce691b1207511"
    },
    {
      "cell_type": "code",
      "source": "\ntest_tokenizer.index_word",
      "metadata": {
        "source_hash": null,
        "execution_start": 1692541373959,
        "execution_millis": 130,
        "deepnote_app_coordinates": {
          "h": 5,
          "w": 12,
          "x": 0,
          "y": 0
        },
        "deepnote_to_be_reexecuted": false,
        "deepnote_app_is_code_hidden": false,
        "deepnote_app_is_output_hidden": false,
        "cell_id": "b53a435b580049ceb3343719c91cdac8",
        "deepnote_cell_type": "code"
      },
      "outputs": [
        {
          "output_type": "execute_result",
          "execution_count": 41,
          "data": {
            "text/plain": "{1: 'here',\n 2: 'is',\n 3: 'our',\n 4: 'forecast',\n 5: 'especially',\n 6: 'if',\n 7: 'you',\n 8: 'have',\n 9: 'to',\n 10: 'prepare',\n 11: 'a',\n 12: 'presentation'}"
          },
          "metadata": {}
        }
      ],
      "execution_count": null,
      "block_group": "b53a435b580049ceb3343719c91cdac8"
    },
    {
      "cell_type": "code",
      "source": "test_sentence = \"here you have our presentation\"\ntest_token_list = test_tokenizer.texts_to_sequences([test_sentence])[0]\nprint(test_token_list)",
      "metadata": {
        "source_hash": null,
        "execution_start": 1692541373959,
        "execution_millis": 129,
        "deepnote_app_coordinates": {
          "h": 5,
          "w": 12,
          "x": 0,
          "y": 0
        },
        "deepnote_to_be_reexecuted": false,
        "deepnote_app_is_code_hidden": false,
        "deepnote_app_is_output_hidden": false,
        "cell_id": "2a8dc3199e644cc7afcb8c2552baff89",
        "deepnote_cell_type": "code"
      },
      "outputs": [
        {
          "name": "stdout",
          "text": "[1, 7, 8, 3, 12]\n",
          "output_type": "stream"
        }
      ],
      "execution_count": null,
      "block_group": "2a8dc3199e644cc7afcb8c2552baff89"
    },
    {
      "cell_type": "code",
      "source": "n_grams = []\nfor i in range(1, len(test_token_list)):\n    n_gram = test_token_list[:i+1]\n    n_grams.append(n_gram)\nprint(n_grams)",
      "metadata": {
        "source_hash": null,
        "execution_start": 1692541373960,
        "execution_millis": 131,
        "deepnote_app_coordinates": {
          "h": 5,
          "w": 12,
          "x": 0,
          "y": 0
        },
        "deepnote_to_be_reexecuted": false,
        "deepnote_app_is_code_hidden": false,
        "deepnote_app_is_output_hidden": false,
        "cell_id": "76d856bf8aa240aa820669f003effaee",
        "deepnote_cell_type": "code"
      },
      "outputs": [
        {
          "name": "stdout",
          "text": "[[1, 7], [1, 7, 8], [1, 7, 8, 3], [1, 7, 8, 3, 12]]\n",
          "output_type": "stream"
        }
      ],
      "execution_count": null,
      "block_group": "76d856bf8aa240aa820669f003effaee"
    },
    {
      "cell_type": "code",
      "source": "tokenizer = Tokenizer()",
      "metadata": {
        "source_hash": null,
        "execution_start": 1692541373960,
        "execution_millis": 131,
        "deepnote_app_coordinates": {
          "h": 5,
          "w": 12,
          "x": 0,
          "y": 0
        },
        "deepnote_to_be_reexecuted": false,
        "deepnote_app_is_code_hidden": false,
        "cell_id": "ed9e413b51d24b2795696fc5f84d1353",
        "deepnote_cell_type": "code"
      },
      "outputs": [],
      "execution_count": null,
      "block_group": "d11b1856133a4e229fba80360523f4b6"
    },
    {
      "cell_type": "code",
      "source": "def convertSentencesIntoSeqOfTokens(sentences):\n    tokenizer.fit_on_texts(sentences)\n    total_words_in_vocab = len(tokenizer.word_index) + 1\n\n    input_sequences = []\n    for sentence in sentences:\n        seq_of_tokens = tokenizer.texts_to_sequences([sentence])[0]\n        for i in range(1, len(seq_of_tokens)):\n            n_gram = seq_of_tokens[:i+1]\n            input_sequences.append(n_gram)\n    return input_sequences, total_words_in_vocab",
      "metadata": {
        "source_hash": null,
        "execution_start": 1692541373961,
        "execution_millis": 126,
        "deepnote_app_coordinates": {
          "h": 5,
          "w": 12,
          "x": 0,
          "y": 0
        },
        "deepnote_to_be_reexecuted": false,
        "deepnote_app_is_code_hidden": false,
        "cell_id": "fa8670c743e549d5a0c7fea5718f8d08",
        "deepnote_cell_type": "code"
      },
      "outputs": [],
      "execution_count": null,
      "block_group": "fa8670c743e549d5a0c7fea5718f8d08"
    },
    {
      "cell_type": "code",
      "source": "input_sequences, total_words_in_vocab = convertSentencesIntoSeqOfTokens(sentences)\ninput_sequences[:10]",
      "metadata": {
        "source_hash": null,
        "execution_start": 1692541373961,
        "execution_millis": 5182,
        "deepnote_app_coordinates": {
          "h": 5,
          "w": 12,
          "x": 0,
          "y": 0
        },
        "deepnote_to_be_reexecuted": false,
        "deepnote_app_is_code_hidden": false,
        "deepnote_app_is_output_hidden": false,
        "cell_id": "1053f450fc9048219a82a85af2d3cb91",
        "deepnote_cell_type": "code"
      },
      "outputs": [
        {
          "output_type": "execute_result",
          "execution_count": 46,
          "data": {
            "text/plain": "[[87, 4],\n [87, 4, 40],\n [87, 4, 40, 1747],\n [2023, 2],\n [2023, 2, 17],\n [2023, 2, 17, 5],\n [2023, 2, 17, 5, 120],\n [2023, 2, 17, 5, 120, 127],\n [2023, 2, 17, 5, 120, 127, 834],\n [2023, 2, 17, 5, 120, 127, 834, 1]]"
          },
          "metadata": {}
        }
      ],
      "execution_count": null,
      "block_group": "1053f450fc9048219a82a85af2d3cb91"
    },
    {
      "cell_type": "code",
      "source": "from tensorflow.keras.preprocessing.sequence import pad_sequences",
      "metadata": {
        "source_hash": null,
        "execution_start": 1692541379154,
        "execution_millis": 99,
        "deepnote_app_coordinates": {
          "h": 5,
          "w": 12,
          "x": 0,
          "y": 0
        },
        "deepnote_to_be_reexecuted": false,
        "deepnote_app_is_code_hidden": false,
        "cell_id": "44939551334244cca3ddd45db31891d4",
        "deepnote_cell_type": "code"
      },
      "outputs": [],
      "execution_count": null,
      "block_group": "44939551334244cca3ddd45db31891d4"
    },
    {
      "cell_type": "code",
      "source": "test_sequences = [[2025, 2], [2025, 2, 16], [2025, 2, 16, 6], [2025, 2, 16, 6, 135], [2025, 2, 16, 6, 135, 119]]",
      "metadata": {
        "source_hash": null,
        "execution_start": 1692541379155,
        "execution_millis": 21,
        "deepnote_app_coordinates": {
          "h": 5,
          "w": 12,
          "x": 0,
          "y": 0
        },
        "deepnote_to_be_reexecuted": false,
        "deepnote_app_is_code_hidden": false,
        "cell_id": "ef78566ef1e743a8aebe02aa156d275b",
        "deepnote_cell_type": "code"
      },
      "outputs": [],
      "execution_count": null,
      "block_group": "ef78566ef1e743a8aebe02aa156d275b"
    },
    {
      "cell_type": "code",
      "source": "pad_sequences (test_sequences, maxlen=6, padding='pre')",
      "metadata": {
        "source_hash": null,
        "execution_start": 1692541379156,
        "execution_millis": 22,
        "deepnote_app_coordinates": {
          "h": 5,
          "w": 12,
          "x": 0,
          "y": 0
        },
        "deepnote_to_be_reexecuted": false,
        "deepnote_app_is_code_hidden": false,
        "deepnote_app_is_output_hidden": false,
        "cell_id": "a0541a259c454afbb23e7e47e51ca9e9",
        "deepnote_cell_type": "code"
      },
      "outputs": [
        {
          "output_type": "execute_result",
          "execution_count": 49,
          "data": {
            "text/plain": "array([[   0,    0,    0,    0, 2025,    2],\n       [   0,    0,    0, 2025,    2,   16],\n       [   0,    0, 2025,    2,   16,    6],\n       [   0, 2025,    2,   16,    6,  135],\n       [2025,    2,   16,    6,  135,  119]], dtype=int32)"
          },
          "metadata": {}
        }
      ],
      "execution_count": null,
      "block_group": "a0541a259c454afbb23e7e47e51ca9e9"
    },
    {
      "cell_type": "code",
      "source": "def generateSameLengthSentencesByPadding (sequences):\n    # Find length of the longest sequence\n    max_seq_len = max([len(x) for x in sequences])\n\n    #Pad the sequences\n    padded_sequences = np.array(pad_sequences(sequences, maxlen = max_seq_len, padding ='pre'))\n\n    # Return padded sequences and the max length\n    return padded_sequences, max_seq_len",
      "metadata": {
        "source_hash": null,
        "execution_start": 1692541379205,
        "execution_millis": 67,
        "deepnote_app_coordinates": {
          "h": 5,
          "w": 12,
          "x": 0,
          "y": 0
        },
        "deepnote_to_be_reexecuted": false,
        "deepnote_app_is_code_hidden": false,
        "cell_id": "0c96ae6b1dd54d2492825aa39562b20a",
        "deepnote_cell_type": "code"
      },
      "outputs": [],
      "execution_count": null,
      "block_group": "0c96ae6b1dd54d2492825aa39562b20a"
    },
    {
      "cell_type": "code",
      "source": "padded_sequences, max_seq_len = generateSameLengthSentencesByPadding(input_sequences) \npadded_sequences[:5]",
      "metadata": {
        "source_hash": null,
        "execution_start": 1692541379252,
        "execution_millis": 3303,
        "deepnote_app_coordinates": {
          "h": 5,
          "w": 12,
          "x": 0,
          "y": 0
        },
        "deepnote_to_be_reexecuted": false,
        "deepnote_app_is_code_hidden": false,
        "deepnote_app_is_output_hidden": false,
        "cell_id": "1437a70e7cc94333b41351400cd11aa6",
        "deepnote_cell_type": "code"
      },
      "outputs": [
        {
          "output_type": "execute_result",
          "execution_count": 51,
          "data": {
            "text/plain": "array([[   0,    0,    0,    0,    0,    0,    0,    0,    0,    0,    0,\n           0,    0,    0,    0,    0,    0,    0,    0,    0,    0,    0,\n           0,    0,    0,    0,    0,    0,   87,    4],\n       [   0,    0,    0,    0,    0,    0,    0,    0,    0,    0,    0,\n           0,    0,    0,    0,    0,    0,    0,    0,    0,    0,    0,\n           0,    0,    0,    0,    0,   87,    4,   40],\n       [   0,    0,    0,    0,    0,    0,    0,    0,    0,    0,    0,\n           0,    0,    0,    0,    0,    0,    0,    0,    0,    0,    0,\n           0,    0,    0,    0,   87,    4,   40, 1747],\n       [   0,    0,    0,    0,    0,    0,    0,    0,    0,    0,    0,\n           0,    0,    0,    0,    0,    0,    0,    0,    0,    0,    0,\n           0,    0,    0,    0,    0,    0, 2023,    2],\n       [   0,    0,    0,    0,    0,    0,    0,    0,    0,    0,    0,\n           0,    0,    0,    0,    0,    0,    0,    0,    0,    0,    0,\n           0,    0,    0,    0,    0, 2023,    2,   17]], dtype=int32)"
          },
          "metadata": {}
        }
      ],
      "execution_count": null,
      "block_group": "1437a70e7cc94333b41351400cd11aa6"
    },
    {
      "cell_type": "code",
      "source": "import tensorflow.keras.utils as ku\n\ntest_padded_sequences = np.array([[0, 0, 0, 12, 16, 32],\n[0, 0, 8, 15, 17, 41]])",
      "metadata": {
        "source_hash": null,
        "execution_start": 1692541382390,
        "execution_millis": 69,
        "deepnote_app_coordinates": {
          "h": 5,
          "w": 12,
          "x": 0,
          "y": 0
        },
        "deepnote_to_be_reexecuted": false,
        "deepnote_app_is_code_hidden": false,
        "cell_id": "9b5a308686164b8fb248ded4bb14ec6b",
        "deepnote_cell_type": "code"
      },
      "outputs": [],
      "execution_count": null,
      "block_group": "9b5a308686164b8fb248ded4bb14ec6b"
    },
    {
      "cell_type": "code",
      "source": "test_padded_sequences[:,:-1]",
      "metadata": {
        "source_hash": null,
        "execution_start": 1692541382391,
        "execution_millis": 8,
        "deepnote_app_coordinates": {
          "h": 5,
          "w": 12,
          "x": 0,
          "y": 0
        },
        "deepnote_to_be_reexecuted": false,
        "deepnote_app_is_code_hidden": false,
        "deepnote_app_is_output_hidden": false,
        "cell_id": "5420c3201f2540258beb3fc78bd47407",
        "deepnote_cell_type": "code"
      },
      "outputs": [
        {
          "output_type": "execute_result",
          "execution_count": 53,
          "data": {
            "text/plain": "array([[ 0,  0,  0, 12, 16],\n       [ 0,  0,  8, 15, 17]])"
          },
          "metadata": {}
        }
      ],
      "execution_count": null,
      "block_group": "5420c3201f2540258beb3fc78bd47407"
    },
    {
      "cell_type": "code",
      "source": "test_padded_sequences[:, -1]",
      "metadata": {
        "source_hash": null,
        "execution_start": 1692541382392,
        "execution_millis": 7,
        "deepnote_app_coordinates": {
          "h": 5,
          "w": 12,
          "x": 0,
          "y": 0
        },
        "deepnote_to_be_reexecuted": false,
        "deepnote_app_is_code_hidden": false,
        "deepnote_app_is_output_hidden": false,
        "cell_id": "19f37682abda494192005771341a53f3",
        "deepnote_cell_type": "code"
      },
      "outputs": [
        {
          "output_type": "execute_result",
          "execution_count": 54,
          "data": {
            "text/plain": "array([32, 41])"
          },
          "metadata": {}
        }
      ],
      "execution_count": null,
      "block_group": "19f37682abda494192005771341a53f3"
    },
    {
      "cell_type": "code",
      "source": "def generatePredictorsAndLabels(padded_sequences):\n    inputs, label = padded_sequences[:, :-1], padded_sequences[:, -1]\n    return inputs, label\n\n# Apply preprocessing and generate input sequences and labels\ninput_sequences, total_words_in_vocab = convertSentencesIntoSeqOfTokens(sentences)\npadded_sequences, max_seq_len = generateSameLengthSentencesByPadding(input_sequences)\ninputs, labels = generatePredictorsAndLabels(padded_sequences)\n\n# Print some useful information\nprint(\"Number of input sequences:\", len(inputs))\nprint(\"Maximum sequence length:\", max_seq_len)\nprint(\"Total words in vocabulary:\", total_words_in_vocab)",
      "metadata": {
        "source_hash": null,
        "execution_start": 1692541382435,
        "execution_millis": 8070,
        "deepnote_app_coordinates": {
          "h": 5,
          "w": 12,
          "x": 0,
          "y": 0
        },
        "deepnote_to_be_reexecuted": false,
        "deepnote_app_is_code_hidden": false,
        "deepnote_app_is_output_hidden": false,
        "cell_id": "788a73a615fc4cb7b2acd91e2251ddbd",
        "deepnote_cell_type": "code"
      },
      "outputs": [
        {
          "name": "stdout",
          "text": "Number of input sequences: 1607145\nMaximum sequence length: 30\nTotal words in vocabulary: 32684\n",
          "output_type": "stream"
        }
      ],
      "execution_count": null,
      "block_group": "788a73a615fc4cb7b2acd91e2251ddbd"
    },
    {
      "cell_type": "code",
      "source": "inputs, label = generatePredictorsAndLabels(padded_sequences)",
      "metadata": {
        "source_hash": null,
        "execution_start": 1692541390497,
        "execution_millis": 12,
        "deepnote_app_coordinates": {
          "h": 5,
          "w": 12,
          "x": 0,
          "y": 0
        },
        "deepnote_to_be_reexecuted": false,
        "deepnote_app_is_code_hidden": false,
        "cell_id": "d9097fd1898b40f086cbc06ca8dfd2ad",
        "deepnote_cell_type": "code"
      },
      "outputs": [],
      "execution_count": null,
      "block_group": "d9097fd1898b40f086cbc06ca8dfd2ad"
    },
    {
      "cell_type": "code",
      "source": "from tensorflow.keras.models import Sequential\nfrom tensorflow.keras.layers import Embedding, LSTM, Dense, Dropout",
      "metadata": {
        "source_hash": null,
        "execution_start": 1692541390502,
        "execution_millis": 38,
        "deepnote_app_coordinates": {
          "h": 5,
          "w": 12,
          "x": 0,
          "y": 0
        },
        "deepnote_to_be_reexecuted": false,
        "deepnote_app_is_code_hidden": false,
        "cell_id": "dea418a6cac54e898109da9a3775d3f7",
        "deepnote_cell_type": "code"
      },
      "outputs": [],
      "execution_count": null,
      "block_group": "dea418a6cac54e898109da9a3775d3f7"
    },
    {
      "cell_type": "code",
      "source": "input_length = max_seq_len - 1",
      "metadata": {
        "source_hash": null,
        "execution_start": 1692541390579,
        "execution_millis": 11,
        "deepnote_app_coordinates": {
          "h": 5,
          "w": 12,
          "x": 0,
          "y": 0
        },
        "deepnote_to_be_reexecuted": false,
        "deepnote_app_is_code_hidden": false,
        "cell_id": "4b6caa70dd0044fa971a0131ae3320c7",
        "deepnote_cell_type": "code"
      },
      "outputs": [],
      "execution_count": null,
      "block_group": "4b6caa70dd0044fa971a0131ae3320c7"
    },
    {
      "cell_type": "code",
      "source": "model = Sequential()\nmodel.add(Embedding(total_words_in_vocab, 10, input_length= input_length))\nmodel.add(LSTM(100))\nmodel.add(Dropout(0.1))\nmodel.add(Dense(total_words_in_vocab, activation = 'softmax'))",
      "metadata": {
        "source_hash": null,
        "execution_start": 1692541390581,
        "execution_millis": 1528,
        "deepnote_app_coordinates": {
          "h": 5,
          "w": 12,
          "x": 0,
          "y": 0
        },
        "deepnote_to_be_reexecuted": false,
        "deepnote_app_is_code_hidden": false,
        "deepnote_app_is_output_hidden": false,
        "cell_id": "5af2bb3ae6b542079a90f99dc89b2cfb",
        "deepnote_cell_type": "code"
      },
      "outputs": [
        {
          "name": "stderr",
          "text": "2023-08-20 14:23:10.728785: W tensorflow/stream_executor/platform/default/dso_loader.cc:64] Could not load dynamic library 'libcuda.so.1'; dlerror: libcuda.so.1: cannot open shared object file: No such file or directory\n2023-08-20 14:23:10.728839: W tensorflow/stream_executor/cuda/cuda_driver.cc:263] failed call to cuInit: UNKNOWN ERROR (303)\n2023-08-20 14:23:10.728864: I tensorflow/stream_executor/cuda/cuda_diagnostics.cc:156] kernel driver does not appear to be running on this host (p-e877edb0-c284-4e08-8750-bd5503d6c364): /proc/driver/nvidia/version does not exist\n2023-08-20 14:23:10.729753: I tensorflow/core/platform/cpu_feature_guard.cc:193] This TensorFlow binary is optimized with oneAPI Deep Neural Network Library (oneDNN) to use the following CPU instructions in performance-critical operations:  AVX2 FMA\nTo enable them in other operations, rebuild TensorFlow with the appropriate compiler flags.\n",
          "output_type": "stream"
        }
      ],
      "execution_count": null,
      "block_group": "5af2bb3ae6b542079a90f99dc89b2cfb"
    },
    {
      "cell_type": "code",
      "source": "model.compile(loss='sparse_categorical_crossentropy', optimizer='adam')\nmodel.summary()",
      "metadata": {
        "source_hash": null,
        "execution_start": 1692541391929,
        "execution_millis": 46,
        "deepnote_app_coordinates": {
          "h": 5,
          "w": 12,
          "x": 0,
          "y": 0
        },
        "deepnote_to_be_reexecuted": false,
        "deepnote_app_is_code_hidden": false,
        "deepnote_app_is_output_hidden": false,
        "cell_id": "31cecd30947b4cb0b1ff583959e7f259",
        "deepnote_cell_type": "code"
      },
      "outputs": [
        {
          "name": "stdout",
          "text": "Model: \"sequential\"\n_________________________________________________________________\n Layer (type)                Output Shape              Param #   \n=================================================================\n embedding (Embedding)       (None, 29, 10)            326840    \n                                                                 \n lstm (LSTM)                 (None, 100)               44400     \n                                                                 \n dropout (Dropout)           (None, 100)               0         \n                                                                 \n dense (Dense)               (None, 32684)             3301084   \n                                                                 \n=================================================================\nTotal params: 3,672,324\nTrainable params: 3,672,324\nNon-trainable params: 0\n_________________________________________________________________\n",
          "output_type": "stream"
        }
      ],
      "execution_count": null,
      "block_group": "31cecd30947b4cb0b1ff583959e7f259"
    },
    {
      "cell_type": "code",
      "source": "model.fit(inputs, label, epochs = 1)",
      "metadata": {
        "source_hash": null,
        "execution_start": 1692541391930,
        "execution_millis": 4880374,
        "deepnote_app_coordinates": {
          "h": 5,
          "w": 12,
          "x": 0,
          "y": 0
        },
        "deepnote_to_be_reexecuted": false,
        "deepnote_app_is_code_hidden": false,
        "deepnote_app_is_output_hidden": false,
        "cell_id": "8ad82a452d92468e982338f309ad4140",
        "deepnote_cell_type": "code"
      },
      "outputs": [
        {
          "name": "stdout",
          "text": "50224/50224 [==============================] - 4880s 97ms/step - loss: 5.7949\n",
          "output_type": "stream"
        },
        {
          "output_type": "execute_result",
          "execution_count": 61,
          "data": {
            "text/plain": "<keras.callbacks.History at 0x7f9b43cbc580>"
          },
          "metadata": {}
        }
      ],
      "execution_count": null,
      "block_group": "8ad82a452d92468e982338f309ad4140"
    },
    {
      "cell_type": "code",
      "source": "model.save('text_autocomplete_lstm')",
      "metadata": {
        "source_hash": null,
        "execution_start": 1692546272292,
        "execution_millis": 3327,
        "deepnote_app_coordinates": {
          "h": 5,
          "w": 12,
          "x": 0,
          "y": 0
        },
        "deepnote_to_be_reexecuted": false,
        "deepnote_app_is_code_hidden": false,
        "deepnote_app_is_output_hidden": false,
        "cell_id": "f22e3d2d7a6e4edca5e78308fc79ee41",
        "deepnote_cell_type": "code"
      },
      "outputs": [
        {
          "name": "stderr",
          "text": "WARNING:absl:Found untraced functions such as lstm_cell_layer_call_fn, lstm_cell_layer_call_and_return_conditional_losses while saving (showing 2 of 2). These functions will not be directly callable after loading.\nINFO:tensorflow:Assets written to: text_autocomplete_lstm/assets\nINFO:tensorflow:Assets written to: text_autocomplete_lstm/assets\n",
          "output_type": "stream"
        }
      ],
      "execution_count": null,
      "block_group": "f22e3d2d7a6e4edca5e78308fc79ee41"
    },
    {
      "cell_type": "code",
      "source": "from tensorflow.keras.models import load_model\nmodel = load_model('text_autocomplete_lstm')",
      "metadata": {
        "source_hash": null,
        "execution_start": 1692546275610,
        "execution_millis": 1483,
        "deepnote_app_coordinates": {
          "h": 5,
          "w": 12,
          "x": 0,
          "y": 0
        },
        "deepnote_to_be_reexecuted": false,
        "deepnote_app_is_code_hidden": false,
        "cell_id": "9dfcb8cddc734c1f87f54c8fe66d7acb",
        "deepnote_cell_type": "code"
      },
      "outputs": [],
      "execution_count": null,
      "block_group": "9dfcb8cddc734c1f87f54c8fe66d7acb"
    },
    {
      "cell_type": "code",
      "source": "def generate_autocomplete_suggestions(seed_sentence, no_of_next_words, model, max_sequence_len):\n    for _ in range(no_of_next_words):\n        sequence = tokenizer.texts_to_sequences([seed_sentence])[0]\n\n        padded_sequence = pad_sequences([sequence],maxlen=max_seq_len-1, padding='pre')\n        predictions = model.predict (padded_sequence, verbose=0)\n        predicted_label = np.argmax(predictions, axis=1)[0]\n        next_word = tokenizer.index_word[predicted_label]\n        seed_sentence += \" \" + next_word\n    return seed_sentence",
      "metadata": {
        "source_hash": null,
        "execution_start": 1692546277097,
        "execution_millis": 13,
        "deepnote_app_coordinates": {
          "h": 5,
          "w": 12,
          "x": 0,
          "y": 0
        },
        "deepnote_to_be_reexecuted": false,
        "deepnote_app_is_code_hidden": false,
        "cell_id": "640d835c4957490081180305bc21af4e",
        "deepnote_cell_type": "code"
      },
      "outputs": [],
      "execution_count": null,
      "block_group": "640d835c4957490081180305bc21af4e"
    },
    {
      "cell_type": "code",
      "source": "print(generate_autocomplete_suggestions(\"In response to your earlier email\", 10, model, max_seq_len))\nprint(generate_autocomplete_suggestions(\"I am happy to\", 10, model, max_seq_len))\nprint(generate_autocomplete_suggestions(\"What is the status\", 3, model, max_seq_len))\nprint(generate_autocomplete_suggestions(\"Here is the data\", 3, model, max_seq_len))\nprint(generate_autocomplete_suggestions(\"Thank you very much\", 4, model, max_seq_len))\nprint(generate_autocomplete_suggestions(\"I got your email\", 17, model, max_seq_len))",
      "metadata": {
        "source_hash": null,
        "execution_start": 1692546277102,
        "execution_millis": 2669,
        "deepnote_app_coordinates": {
          "h": 5,
          "w": 12,
          "x": 0,
          "y": 0
        },
        "deepnote_to_be_reexecuted": false,
        "deepnote_app_is_code_hidden": false,
        "deepnote_app_is_output_hidden": false,
        "cell_id": "5f17a126b43e4405b5cffce1b87a78d7",
        "deepnote_cell_type": "code"
      },
      "outputs": [
        {
          "name": "stdout",
          "text": "In response to your earlier email and let me know if you have any questions or\nI am happy to see you guys and the same of the same of\nWhat is the status of the company\nHere is the data and the list\nThank you very much for your help and\nI got your email and you will have a great time to see it in the future and the same of\n",
          "output_type": "stream"
        }
      ],
      "execution_count": null,
      "block_group": "5f17a126b43e4405b5cffce1b87a78d7"
    },
    {
      "cell_type": "markdown",
      "source": "def main():\r\n    statement = input(\"Please enter a statement: \")\r\n    n = int(input(\"How many words do you want to autocomplete: \"))\r\n    print(generate_autocomplete_suggestions(statement, n, model,max_seq_len))",
      "metadata": {
        "formattedRanges": [],
        "deepnote_app_coordinates": {
          "h": 2,
          "w": 8,
          "x": 0,
          "y": 0
        },
        "cell_id": "2c53b2ede5704b2ba3bb897a7efb8486",
        "deepnote_cell_type": "text-cell-p"
      },
      "block_group": "2c53b2ede5704b2ba3bb897a7efb8486"
    },
    {
      "cell_type": "markdown",
      "source": "if __name__ == \"__main__\":\r\n    main()",
      "metadata": {
        "formattedRanges": [],
        "deepnote_app_coordinates": {
          "h": 2,
          "w": 8,
          "x": 0,
          "y": 0
        },
        "cell_id": "05e1e721884f407890bd652c0e837c31",
        "deepnote_cell_type": "text-cell-p"
      },
      "block_group": "020a068281404aafafce9bcee865952d"
    },
    {
      "cell_type": "markdown",
      "source": "<a style='text-decoration:none;line-height:16px;display:flex;color:#5B5B62;padding:10px;justify-content:end;' href='https://deepnote.com?utm_source=created-in-deepnote-cell&projectId=e877edb0-c284-4e08-8750-bd5503d6c364' target=\"_blank\">\n<img alt='Created in deepnote.com' style='display:inline;max-height:16px;margin:0px;margin-right:7.5px;' src='data:image/svg+xml;base64,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' > </img>\nCreated in <span style='font-weight:600;margin-left:4px;'>Deepnote</span></a>",
      "metadata": {
        "created_in_deepnote_cell": true,
        "deepnote_cell_type": "markdown"
      }
    }
  ],
  "nbformat": 4,
  "nbformat_minor": 0,
  "metadata": {
    "deepnote": {},
    "orig_nbformat": 2,
    "deepnote_app_width": "standard",
    "deepnote_app_layout": "powerful-article",
    "deepnote_notebook_id": "2eed0d02cb6b45a4b38a4fdc6b531865",
    "deepnote_app_hide_all_code_blocks_enabled": false,
    "deepnote_execution_queue": []
  }
}